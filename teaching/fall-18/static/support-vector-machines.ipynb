{
 "cells": [
  {
   "cell_type": "code",
   "execution_count": 1,
   "metadata": {},
   "outputs": [],
   "source": [
    "# Applied Machine Learning (HOUSECS 59-03)\n",
    "# Fall 2018, Duke University\n",
    "# Support Vector Machines"
   ]
  },
  {
   "cell_type": "code",
   "execution_count": 2,
   "metadata": {},
   "outputs": [],
   "source": [
    "import sklearn\n",
    "import numpy as np\n",
    "import pandas as pd\n",
    "import matplotlib.pyplot as plt\n",
    "from sklearn import datasets, svm\n",
    "from sklearn.metrics import accuracy_score, confusion_matrix"
   ]
  },
  {
   "cell_type": "markdown",
   "metadata": {},
   "source": [
    "Let's begin by exploring the dataset from the previous lecture that looks at irises, a type of flower: load the data into a Pandas dataframe. Take a look at the different features (sepal length, sepal width, petal length, and petal width) and classes (Setosa, Versicolour, and Virginica)."
   ]
  },
  {
   "cell_type": "code",
   "execution_count": 3,
   "metadata": {},
   "outputs": [
    {
     "name": "stdout",
     "output_type": "stream",
     "text": [
      "Iris Plants Database\n",
      "====================\n",
      "\n",
      "Notes\n",
      "-----\n",
      "Data Set Characteristics:\n",
      "    :Number of Instances: 150 (50 in each of three classes)\n",
      "    :Number of Attributes: 4 numeric, predictive attributes and the class\n",
      "    :Attribute Information:\n",
      "        - sepal length in cm\n",
      "        - sepal width in cm\n",
      "        - petal length in cm\n",
      "        - petal width in cm\n",
      "        - class:\n",
      "                - Iris-Setosa\n",
      "                - Iris-Versicolour\n",
      "                - Iris-Virginica\n",
      "    :Summary Statistics:\n",
      "\n",
      "    ============== ==== ==== ======= ===== ====================\n",
      "                    Min  Max   Mean    SD   Class Correlation\n",
      "    ============== ==== ==== ======= ===== ====================\n",
      "    sepal length:   4.3  7.9   5.84   0.83    0.7826\n",
      "    sepal width:    2.0  4.4   3.05   0.43   -0.4194\n",
      "    petal length:   1.0  6.9   3.76   1.76    0.9490  (high!)\n",
      "    petal width:    0.1  2.5   1.20  0.76     0.9565  (high!)\n",
      "    ============== ==== ==== ======= ===== ====================\n",
      "\n",
      "    :Missing Attribute Values: None\n",
      "    :Class Distribution: 33.3% for each of 3 classes.\n",
      "    :Creator: R.A. Fisher\n",
      "    :Donor: Michael Marshall (MARSHALL%PLU@io.arc.nasa.gov)\n",
      "    :Date: July, 1988\n",
      "\n",
      "This is a copy of UCI ML iris datasets.\n",
      "http://archive.ics.uci.edu/ml/datasets/Iris\n",
      "\n",
      "The famous Iris database, first used by Sir R.A Fisher\n",
      "\n",
      "This is perhaps the best known database to be found in the\n",
      "pattern recognition literature.  Fisher's paper is a classic in the field and\n",
      "is referenced frequently to this day.  (See Duda & Hart, for example.)  The\n",
      "data set contains 3 classes of 50 instances each, where each class refers to a\n",
      "type of iris plant.  One class is linearly separable from the other 2; the\n",
      "latter are NOT linearly separable from each other.\n",
      "\n",
      "References\n",
      "----------\n",
      "   - Fisher,R.A. \"The use of multiple measurements in taxonomic problems\"\n",
      "     Annual Eugenics, 7, Part II, 179-188 (1936); also in \"Contributions to\n",
      "     Mathematical Statistics\" (John Wiley, NY, 1950).\n",
      "   - Duda,R.O., & Hart,P.E. (1973) Pattern Classification and Scene Analysis.\n",
      "     (Q327.D83) John Wiley & Sons.  ISBN 0-471-22361-1.  See page 218.\n",
      "   - Dasarathy, B.V. (1980) \"Nosing Around the Neighborhood: A New System\n",
      "     Structure and Classification Rule for Recognition in Partially Exposed\n",
      "     Environments\".  IEEE Transactions on Pattern Analysis and Machine\n",
      "     Intelligence, Vol. PAMI-2, No. 1, 67-71.\n",
      "   - Gates, G.W. (1972) \"The Reduced Nearest Neighbor Rule\".  IEEE Transactions\n",
      "     on Information Theory, May 1972, 431-433.\n",
      "   - See also: 1988 MLC Proceedings, 54-64.  Cheeseman et al\"s AUTOCLASS II\n",
      "     conceptual clustering system finds 3 classes in the data.\n",
      "   - Many, many more ...\n",
      "\n"
     ]
    }
   ],
   "source": [
    "# load dataset\n",
    "iris = datasets.load_iris()\n",
    "print(iris[\"DESCR\"])"
   ]
  },
  {
   "cell_type": "code",
   "execution_count": 4,
   "metadata": {},
   "outputs": [
    {
     "data": {
      "text/html": [
       "<div>\n",
       "<style scoped>\n",
       "    .dataframe tbody tr th:only-of-type {\n",
       "        vertical-align: middle;\n",
       "    }\n",
       "\n",
       "    .dataframe tbody tr th {\n",
       "        vertical-align: top;\n",
       "    }\n",
       "\n",
       "    .dataframe thead th {\n",
       "        text-align: right;\n",
       "    }\n",
       "</style>\n",
       "<table border=\"1\" class=\"dataframe\">\n",
       "  <thead>\n",
       "    <tr style=\"text-align: right;\">\n",
       "      <th></th>\n",
       "      <th>sepal length (cm)</th>\n",
       "      <th>sepal width (cm)</th>\n",
       "      <th>petal length (cm)</th>\n",
       "      <th>petal width (cm)</th>\n",
       "      <th>flower</th>\n",
       "    </tr>\n",
       "  </thead>\n",
       "  <tbody>\n",
       "    <tr>\n",
       "      <th>0</th>\n",
       "      <td>4.8</td>\n",
       "      <td>3.1</td>\n",
       "      <td>1.6</td>\n",
       "      <td>0.2</td>\n",
       "      <td>0</td>\n",
       "    </tr>\n",
       "    <tr>\n",
       "      <th>1</th>\n",
       "      <td>4.6</td>\n",
       "      <td>3.4</td>\n",
       "      <td>1.4</td>\n",
       "      <td>0.3</td>\n",
       "      <td>0</td>\n",
       "    </tr>\n",
       "    <tr>\n",
       "      <th>2</th>\n",
       "      <td>7.7</td>\n",
       "      <td>3.0</td>\n",
       "      <td>6.1</td>\n",
       "      <td>2.3</td>\n",
       "      <td>2</td>\n",
       "    </tr>\n",
       "    <tr>\n",
       "      <th>3</th>\n",
       "      <td>5.7</td>\n",
       "      <td>2.8</td>\n",
       "      <td>4.1</td>\n",
       "      <td>1.3</td>\n",
       "      <td>1</td>\n",
       "    </tr>\n",
       "    <tr>\n",
       "      <th>4</th>\n",
       "      <td>5.7</td>\n",
       "      <td>3.8</td>\n",
       "      <td>1.7</td>\n",
       "      <td>0.3</td>\n",
       "      <td>0</td>\n",
       "    </tr>\n",
       "  </tbody>\n",
       "</table>\n",
       "</div>"
      ],
      "text/plain": [
       "   sepal length (cm)  sepal width (cm)  petal length (cm)  petal width (cm)  \\\n",
       "0                4.8               3.1                1.6               0.2   \n",
       "1                4.6               3.4                1.4               0.3   \n",
       "2                7.7               3.0                6.1               2.3   \n",
       "3                5.7               2.8                4.1               1.3   \n",
       "4                5.7               3.8                1.7               0.3   \n",
       "\n",
       "   flower  \n",
       "0       0  \n",
       "1       0  \n",
       "2       2  \n",
       "3       1  \n",
       "4       0  "
      ]
     },
     "execution_count": 4,
     "metadata": {},
     "output_type": "execute_result"
    }
   ],
   "source": [
    "df = pd.DataFrame(data=iris.data, columns=iris.feature_names)\n",
    "df[\"flower\"] = iris.target\n",
    "df = df.sample(frac=1).reset_index(drop=True) # shuffle rows\n",
    "df.head()"
   ]
  },
  {
   "cell_type": "markdown",
   "metadata": {},
   "source": [
    "We can also visualize the data by plotting \"clusters\" of the same flower type over two features: in this case, sepal length and sepal width. Notice how flower 0 is nicely separated from the other two flowers based on these two features; however, the other two flowers are not separated just based on these two features."
   ]
  },
  {
   "cell_type": "code",
   "execution_count": 5,
   "metadata": {},
   "outputs": [
    {
     "data": {
      "text/plain": [
       "<matplotlib.collections.PathCollection at 0x1a1895ef60>"
      ]
     },
     "execution_count": 5,
     "metadata": {},
     "output_type": "execute_result"
    },
    {
     "data": {
      "image/png": "[encoded data removed]",
      "text/plain": [
       "<Figure size 432x288 with 1 Axes>"
      ]
     },
     "metadata": {},
     "output_type": "display_data"
    }
   ],
   "source": [
    "# plot clusters based on sepal length and sepal width\n",
    "plt.scatter(df[df[\"flower\"] == 0][\"sepal length (cm)\"], df[df[\"flower\"] == 0][\"sepal width (cm)\"])\n",
    "plt.scatter(df[df[\"flower\"] == 1][\"sepal length (cm)\"], df[df[\"flower\"] == 1][\"sepal width (cm)\"])\n",
    "plt.scatter(df[df[\"flower\"] == 2][\"sepal length (cm)\"], df[df[\"flower\"] == 2][\"sepal width (cm)\"])"
   ]
  },
  {
   "cell_type": "markdown",
   "metadata": {},
   "source": [
    "---\n",
    "We can create a support vector machine (SVM) classification model that takes all four features (sepal length, sepal width, petal length, and petal width) as input to predict the flower type (Setosa, Versicolour, or Virginica). We can use the first 120 points as training, and test on the remaining 30 (notice how we shuffled the data earlier).\n",
    "\n",
    "Notice how the default kernel is the RBF kernel (take a look at the output below, which specifies the parameters used in the SVM model). The parameter gamma specifies the hyperparameter $\\gamma > 0$ used in the RBF kernel; the default value of gamma is 'auto', which is 1/(# features)."
   ]
  },
  {
   "cell_type": "code",
   "execution_count": 6,
   "metadata": {},
   "outputs": [
    {
     "data": {
      "text/plain": [
       "SVC(C=1.0, cache_size=200, class_weight=None, coef0=0.0,\n",
       "  decision_function_shape='ovr', degree=3, gamma='auto', kernel='rbf',\n",
       "  max_iter=-1, probability=True, random_state=None, shrinking=True,\n",
       "  tol=0.001, verbose=False)"
      ]
     },
     "execution_count": 6,
     "metadata": {},
     "output_type": "execute_result"
    }
   ],
   "source": [
    "# create and fit model\n",
    "svm_model = svm.SVC(probability=True)\n",
    "svm_model.fit(df.loc[:119, iris.feature_names], df.loc[:119, \"flower\"])"
   ]
  },
  {
   "cell_type": "code",
   "execution_count": 7,
   "metadata": {},
   "outputs": [
    {
     "name": "stdout",
     "output_type": "stream",
     "text": [
      "accuracy 1.0\n",
      "misclassification error 0.0\n"
     ]
    }
   ],
   "source": [
    "# predict model\n",
    "svm_pred = svm_model.predict(df.loc[120:, iris.feature_names])\n",
    "print(\"accuracy\", accuracy_score(df.loc[120:, \"flower\"], svm_pred))\n",
    "print(\"misclassification error\", 1-accuracy_score(df.loc[120:, \"flower\"], svm_pred))"
   ]
  },
  {
   "cell_type": "markdown",
   "metadata": {},
   "source": [
    "From the testing set, we can calculate the accuracy and misclassification error. We can also compute a confusion matrix, which provides a concise presentation of the predictive power of the model."
   ]
  },
  {
   "cell_type": "code",
   "execution_count": 8,
   "metadata": {},
   "outputs": [
    {
     "name": "stdout",
     "output_type": "stream",
     "text": [
      "confusion matrix\n",
      "[[ 9  0  0]\n",
      " [ 0  7  0]\n",
      " [ 0  0 14]]\n"
     ]
    }
   ],
   "source": [
    "conf_matrix = confusion_matrix(df.loc[120:, \"flower\"], svm_pred)\n",
    "print(\"confusion matrix\")\n",
    "print(conf_matrix)"
   ]
  },
  {
   "cell_type": "markdown",
   "metadata": {},
   "source": [
    "Notice how we're able to perfectly classify the data points in the testing set using an RBF kernel for this particular value of hyperparameter $\\gamma$. Let's now try modifying the value of $\\gamma$: recall how a large value of $\\gamma$ is likely to overfit the training data. Take a look at how the SVM model does over a range of values of $\\gamma$. The default value, recall, is 0.25, or 1/(# features)."
   ]
  },
  {
   "cell_type": "code",
   "execution_count": 9,
   "metadata": {},
   "outputs": [
    {
     "name": "stdout",
     "output_type": "stream",
     "text": [
      "gamma 0.01 \taccuracy 0.9333333333333333\n",
      "gamma 0.0333 \taccuracy 1.0\n",
      "gamma 0.1 \taccuracy 1.0\n",
      "gamma 0.333 \taccuracy 1.0\n",
      "gamma 1 \taccuracy 1.0\n",
      "gamma 3.33 \taccuracy 0.9666666666666667\n",
      "gamma 10 \taccuracy 0.9666666666666667\n",
      "gamma 33.3 \taccuracy 0.7666666666666667\n",
      "gamma 100 \taccuracy 0.36666666666666664\n"
     ]
    }
   ],
   "source": [
    "gammas = [0.01, 0.0333, 0.1, 0.333, 1, 3.33, 10, 33.3, 100]\n",
    "\n",
    "for gamma in gammas:\n",
    "    # create and fit model\n",
    "    svm_model = svm.SVC(probability=True, gamma=gamma)\n",
    "    svm_model.fit(df.loc[:119, iris.feature_names], df.loc[:119, \"flower\"])\n",
    "\n",
    "    # predict model\n",
    "    svm_pred = svm_model.predict(df.loc[120:, iris.feature_names])\n",
    "    print(\"gamma\", gamma, \"\\taccuracy\", accuracy_score(df.loc[120:, \"flower\"], svm_pred))"
   ]
  },
  {
   "cell_type": "markdown",
   "metadata": {},
   "source": [
    "---\n",
    "Let's now try using a linear kernel instead. We can specify the kernel to use in scikit-learn."
   ]
  },
  {
   "cell_type": "code",
   "execution_count": 10,
   "metadata": {},
   "outputs": [
    {
     "data": {
      "text/plain": [
       "SVC(C=1.0, cache_size=200, class_weight=None, coef0=0.0,\n",
       "  decision_function_shape='ovr', degree=3, gamma='auto', kernel='linear',\n",
       "  max_iter=-1, probability=True, random_state=None, shrinking=True,\n",
       "  tol=0.001, verbose=False)"
      ]
     },
     "execution_count": 10,
     "metadata": {},
     "output_type": "execute_result"
    }
   ],
   "source": [
    "# create and fit model\n",
    "svm_model = svm.SVC(probability=True, kernel=\"linear\")\n",
    "svm_model.fit(df.loc[:119, iris.feature_names], df.loc[:119, \"flower\"])"
   ]
  },
  {
   "cell_type": "code",
   "execution_count": 11,
   "metadata": {},
   "outputs": [
    {
     "name": "stdout",
     "output_type": "stream",
     "text": [
      "accuracy 1.0\n",
      "misclassification error 0.0\n"
     ]
    }
   ],
   "source": [
    "# predict model\n",
    "svm_pred = svm_model.predict(df.loc[120:, iris.feature_names])\n",
    "print(\"accuracy\", accuracy_score(df.loc[120:, \"flower\"], svm_pred))\n",
    "print(\"misclassification error\", 1-accuracy_score(df.loc[120:, \"flower\"], svm_pred))"
   ]
  },
  {
   "cell_type": "markdown",
   "metadata": {},
   "source": [
    "Notice how the linear kernel does a perfect job! Recall how simpler models are preferred to more complex models, given the same performance; hence, an RBF kernel may be unnecessary.\n",
    "\n",
    "We can also try using different polynomial kernels. Recall how polynomial kernels have two hyperparameters: a bias coefficient $c$ and degree $d$. The default values of $c$ and $d$ are 0.0 and 3, respectively. We'll keep $c$ fixed at 0.0 for now, but experiment over a few different values of $d$."
   ]
  },
  {
   "cell_type": "code",
   "execution_count": 12,
   "metadata": {},
   "outputs": [
    {
     "name": "stdout",
     "output_type": "stream",
     "text": [
      "degree 1 \taccuracy 1.0\n",
      "degree 2 \taccuracy 1.0\n",
      "degree 3 \taccuracy 1.0\n",
      "degree 4 \taccuracy 0.9666666666666667\n",
      "degree 5 \taccuracy 0.9666666666666667\n"
     ]
    }
   ],
   "source": [
    "degrees = range(1, 6)\n",
    "\n",
    "for degree in degrees:\n",
    "    # create and fit model\n",
    "    svm_model = svm.SVC(probability=True, kernel=\"poly\", degree=degree, gamma=1)\n",
    "    svm_model.fit(df.loc[:119, iris.feature_names], df.loc[:119, \"flower\"])\n",
    "\n",
    "    # predict model\n",
    "    svm_pred = svm_model.predict(df.loc[120:, iris.feature_names])\n",
    "    print(\"degree\", degree, \"\\taccuracy\", accuracy_score(df.loc[120:, \"flower\"], svm_pred))"
   ]
  },
  {
   "cell_type": "markdown",
   "metadata": {},
   "source": [
    "Second-degree and third-degree polynomial kernels classify the data in the testing set perfectly, but fourth-degree and higher polynomial kernels begin to (slightly) overfit!\n",
    "\n",
    "Take a few moments to discuss with a neighbor which kernel (and hyperparameters, if any) you would use, and why."
   ]
  }
 ],
 "metadata": {
  "kernelspec": {
   "display_name": "Python 3",
   "language": "python",
   "name": "python3"
  },
  "language_info": {
   "codemirror_mode": {
    "name": "ipython",
    "version": 3
   },
   "file_extension": ".py",
   "mimetype": "text/x-python",
   "name": "python",
   "nbconvert_exporter": "python",
   "pygments_lexer": "ipython3",
   "version": "3.6.6"
  }
 },
 "nbformat": 4,
 "nbformat_minor": 2
}
